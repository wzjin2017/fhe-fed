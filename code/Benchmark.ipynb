{
 "cells": [
  {
   "cell_type": "code",
   "execution_count": 1,
   "id": "5e6b38a1",
   "metadata": {},
   "outputs": [
    {
     "name": "stdout",
     "output_type": "stream",
     "text": [
      "Requirement already satisfied: torchinfo in /usr/local/lib/python3.8/dist-packages (1.7.1)\r\n"
     ]
    }
   ],
   "source": [
    "!pip install torchinfo"
   ]
  },
  {
   "cell_type": "code",
   "execution_count": 2,
   "id": "15c6396a",
   "metadata": {},
   "outputs": [
    {
     "name": "stderr",
     "output_type": "stream",
     "text": [
      "/usr/local/lib/python3.8/dist-packages/tqdm/auto.py:22: TqdmWarning: IProgress not found. Please update jupyter and ipywidgets. See https://ipywidgets.readthedocs.io/en/stable/user_install.html\n",
      "  from .autonotebook import tqdm as notebook_tqdm\n"
     ]
    }
   ],
   "source": [
    "import SHELFI_FHE as m\n",
    "import torch.nn as nn\n",
    "from torchinfo import summary\n",
    "import numpy as np\n",
    "import time\n",
    "import torch\n",
    "from collections import OrderedDict"
   ]
  },
  {
   "cell_type": "code",
   "execution_count": 3,
   "id": "8f485b2d",
   "metadata": {},
   "outputs": [],
   "source": [
    "# Some helper functions\n",
    "\n",
    "def tensor_to_numpy_arr(params_tensor):\n",
    "    params_np = OrderedDict()\n",
    "    #params_shape = OrderedDict()\n",
    "    for key in params_tensor.keys():\n",
    "        params_np[key] = torch.flatten(params_tensor[key]).numpy()\n",
    "    return params_np\n",
    "\n",
    "def numpy_arr_to_tensor(params_np, params_shape):\n",
    "    params_tensor = OrderedDict()\n",
    "    for key in params_np.keys():\n",
    "        params_tensor[key] = torch.from_numpy(params_np[key])\n",
    "        #needs torch.Size() to tuple\n",
    "        params_tensor[key] = torch.reshape(params_tensor[key], tuple(list((params_shape[key]))))\n",
    "    return params_tensor\n",
    "\n",
    "def tensor_shape(params_tensor):\n",
    "    params_shape = OrderedDict()\n",
    "    for key in params_tensor.keys():\n",
    "        params_shape[key] = params_tensor[key].size()\n",
    "    return params_shape"
   ]
  },
  {
   "cell_type": "code",
   "execution_count": 4,
   "id": "29dac452",
   "metadata": {},
   "outputs": [
    {
     "data": {
      "text/plain": [
       "==========================================================================================\n",
       "Layer (type:depth-idx)                   Output Shape              Param #\n",
       "==========================================================================================\n",
       "Linear                                   [1, 1]                    101\n",
       "==========================================================================================\n",
       "Total params: 101\n",
       "Trainable params: 101\n",
       "Non-trainable params: 0\n",
       "Total mult-adds (M): 0.00\n",
       "==========================================================================================\n",
       "Input size (MB): 0.00\n",
       "Forward/backward pass size (MB): 0.00\n",
       "Params size (MB): 0.00\n",
       "Estimated Total Size (MB): 0.00\n",
       "=========================================================================================="
      ]
     },
     "execution_count": 4,
     "metadata": {},
     "output_type": "execute_result"
    }
   ],
   "source": [
    "# Logistic regression model\n",
    "\n",
    "input_size = 100\n",
    "num_classes = 1\n",
    "\n",
    "model_lr = nn.Linear(input_size, num_classes)\n",
    "summary(model_lr, (1, 100))"
   ]
  },
  {
   "cell_type": "code",
   "execution_count": null,
   "id": "f915996a",
   "metadata": {},
   "outputs": [],
   "source": [
    "#update models\n",
    "model = model_lr\n",
    "#update number of clients\n",
    "N = 3\n",
    "learner_data_layer = []\n",
    "params = tensor_to_numpy_arr(model.state_dict())\n",
    "\n",
    "for id in range(N):\n",
    "    learner_data_layer.append(params)\n",
    "\n",
    "# loading model params from files\n",
    "# for id in range(3):\n",
    "#     os.system(“python3 tabcnn_learner.py ” + str(id+1)+ ” ” + str(n)) \n",
    "#     with open(“models/model”+str(id+1)+“.pickle”, ‘rb’) as handle:\n",
    "#         b = pickle.load(handle)\n",
    "#     learner_data_layer.append(b)\n",
    "#     with open(“models/tensor_model”+str(id+1)+“.pickle”, ‘rb’) as handle:\n",
    "#         c = pickle.load(handle)\n",
    "#     plaintext_data_layer.append(c)\n",
    "\n",
    "\n",
    "weight_factors = np.full(N, 1/N).tolist()\n",
    "\n",
    "print(\"Setup CryptoContext.\")\n",
    "FHE_helper = m.CKKS(\"ckks\", 4096, 52, \"./resources/cryptoparams/\")\n",
    "#FHE_helper = m.CKKS()\n",
    "\n",
    "FHE_helper.genCryptoContextAndKeyGen()\n",
    "#FHE_helper.loadCryptoParams()\n",
    "\n",
    "#encrypting\n",
    "enc_learner_layer = []\n",
    "\n",
    "time_enc_s = time.time()\n",
    "for key in learner_data_layer[0].keys():\n",
    "\tfor id in range(N):\n",
    "\t\tenc_learner_layer.append(OrderedDict())\n",
    "\t\tenc_learner_layer[id][key] = FHE_helper.encrypt(learner_data_layer[id][key])\n",
    "time_enc_e = time.time()\n",
    "print(\"Encrytion done.\\n\")\n",
    "\n",
    "time_enc = (time_enc_e - time_enc_s)/N\n",
    "print(\"Encryption Time: {}\".format(time_enc))\n",
    "#print(FHE_helper.decrypt(enc_res_learner[0][“conv1.weight”], int(learner_data_layer[0][“fc1.weight”].size)))\n",
    "\n",
    "\n",
    "#weighted average\n",
    "eval_data = copy.deepcopy(learner_data_layer[0])\n",
    "\n",
    "time_agg_s = time.time()\n",
    "for key in enc_learner_layer[0].keys():\n",
    "    leaner_layer_temp = []\n",
    "    for id in range(N):\n",
    "        leaner_layer_temp.append(enc_learner_layer[id][key])\n",
    "        #print(leaner_layer_temp)\n",
    "    #print(key)\n",
    "    eval_data[key] = FHE_helper.computeWeightedAverage(leaner_layer_temp, scalingFactors)\n",
    "time_agg_e = time.time()\n",
    "print(\"Secure FedAvg done.\\n\")\n",
    "\n",
    "time_agg = (time_agg_e - time_agg_s)\n",
    "print(\"Secure Agg Time: {}\".format(time_agg))\n",
    "\n",
    "#decryption\n",
    "final_data = OrderedDict()\n",
    "\n",
    "time_dec_s = time.time()\n",
    "for key in learner_data_layer[0].keys():\n",
    "    final_data[key] = FHE_helper.decrypt(eval_data[key], model_size[key])\n",
    "time_agg_e = time.time()\n",
    "print(\"Decryption done.\\n\")\n",
    "\n",
    "time_dec = (time_dec_e - time_dec_s)\n",
    "print(\"Decryption Time: {}\".format(time_dec))"
   ]
  },
  {
   "cell_type": "code",
   "execution_count": null,
   "id": "7f095c68",
   "metadata": {},
   "outputs": [],
   "source": []
  }
 ],
 "metadata": {
  "kernelspec": {
   "display_name": "Python 3 (ipykernel)",
   "language": "python",
   "name": "python3"
  },
  "language_info": {
   "codemirror_mode": {
    "name": "ipython",
    "version": 3
   },
   "file_extension": ".py",
   "mimetype": "text/x-python",
   "name": "python",
   "nbconvert_exporter": "python",
   "pygments_lexer": "ipython3",
   "version": "3.8.10"
  }
 },
 "nbformat": 4,
 "nbformat_minor": 5
}
